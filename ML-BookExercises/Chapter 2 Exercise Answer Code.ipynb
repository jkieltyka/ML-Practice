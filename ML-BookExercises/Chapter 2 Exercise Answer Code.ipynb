{
 "cells": [
  {
   "cell_type": "code",
   "execution_count": null,
   "metadata": {
    "collapsed": false
   },
   "outputs": [],
   "source": [
    "# question 1\n",
    "from sklearn.svm import SVR\n",
    "\n",
    "param_grid = [\n",
    "             {'kernel': [\"linear\"], 'C': [1, 10]},\n",
    "             {'kernel': [\"rbf\"], 'C': [1, 10], 'gamma': [\"auto\", 0.1]},\n",
    "             ]\n",
    "svm_reg = SVR()\n",
    "grid_search = GridSearchCV(svm_reg, param_grid, cv=5, scoring='neg_mean_squared_error')\n",
    "grid_search.fit(housing_prepared, housing_labels)\n",
    "grid_search.best_params_"
   ]
  },
  {
   "cell_type": "code",
   "execution_count": null,
   "metadata": {
    "collapsed": false
   },
   "outputs": [],
   "source": [
    "# question 2\n",
    "from scipy.stats import randint\n",
    "from sklearn.model_selection import RandomizedSearchCV\n",
    "\n",
    "param_distribs = {\n",
    "        'kernel': [\"linear\", \"rbf\"],\n",
    "        'C': randint(low=1, high=10),\n",
    "    }\n",
    "\n",
    "rand_search = RandomizedSearchCV(svm_reg, param_distributions=param_distribs,\n",
    "                                n_iter=4, cv=5, scoring='neg_mean_squared_error')\n",
    "rand_search.fit(housing_prepared, housing_labels)\n",
    "rand_search.best_params_"
   ]
  },
  {
   "cell_type": "code",
   "execution_count": null,
   "metadata": {
    "collapsed": true
   },
   "outputs": [],
   "source": [
    "#question 3\n",
    "drop_array  = [3, 4, 5, 6] # pop, total rooms, total bedrooms, hhs\n",
    "class DropLowImpactNumAttributes(BaseEstimator, TransformerMixin):\n",
    "    def __init__(self):\n",
    "        return None\n",
    "    def fit(self, X, y=None):\n",
    "        return self\n",
    "    def transform(self, X, y=None):\n",
    "        return np.delete(X, drop_array , 1)\n",
    "                         \n",
    "drop_chars = [0, 2, 3, 4 ]\n",
    "class DropLowImpactCharAttributes(BaseEstimator, TransformerMixin):\n",
    "    def __init__(self):\n",
    "        return None\n",
    "    def fit(self, X, y=None):\n",
    "        return self\n",
    "    def transform(self, X, y=None):\n",
    "        return np.delete(X, drop_array , 1)\n",
    "                         \n",
    "drop_low_num = DropLowImpactNumAttributes()\n",
    "drop_low_char= DropLowImpactCharAttributes()\n",
    "                         \n",
    "num_attribs = list(housing_num)\n",
    "cat_attribs = [\"ocean_proximity\"]\n",
    "\n",
    "num_pipeline = Pipeline([('selector', DataFrameSelector(num_attribs)),\n",
    "                       ('imputer', Imputer(strategy=\"median\")),\n",
    "                       ('attribs_addr', CombinedAttributesAdder()),\n",
    "                       ('drop_low_num', DropLowImpactNumAttributes()),\n",
    "                       ('std_scaler', StandardScaler())])\n",
    "\n",
    "cat_pipeline = Pipeline([('selector', DataFrameSelector(cat_attribs)),\n",
    "                       ('label_binarizer', LabelBinarizer()),\n",
    "                       ('drop_low_num', DropLowImpactNumAttributes())])\n",
    "\n",
    "full_pipeline = FeatureUnion(transformer_list=[\n",
    "                (\"num_pipeline\", num_pipeline),\n",
    "                (\"cat_pipeline\", cat_pipeline),\n",
    "            ])\n",
    "housing_prepared = full_pipeline.fit_transform(housing)"
   ]
  },
  {
   "cell_type": "code",
   "execution_count": null,
   "metadata": {
    "collapsed": true
   },
   "outputs": [],
   "source": [
    "# Question 4 TBA"
   ]
  }
 ],
 "metadata": {
  "kernelspec": {
   "display_name": "Python [conda root]",
   "language": "python",
   "name": "conda-root-py"
  },
  "language_info": {
   "codemirror_mode": {
    "name": "ipython",
    "version": 2
   },
   "file_extension": ".py",
   "mimetype": "text/x-python",
   "name": "python",
   "nbconvert_exporter": "python",
   "pygments_lexer": "ipython2",
   "version": "2.7.12"
  }
 },
 "nbformat": 4,
 "nbformat_minor": 1
}
